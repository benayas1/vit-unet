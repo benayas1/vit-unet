{
 "cells": [
  {
   "cell_type": "code",
   "execution_count": 14,
   "source": [
    "from benatools.tf.tfrec import bytes_feature, convert\n",
    "import tensorflow as tf\n",
    "import numpy as np\n",
    "from glob import glob\n",
    "import os\n",
    "import pandas as pd\n",
    "import cv2\n",
    "from sklearn.model_selection import KFold"
   ],
   "outputs": [],
   "metadata": {}
  },
  {
   "cell_type": "code",
   "execution_count": 15,
   "source": [
    "input_folder = 'ssid'\n",
    "\n",
    "# prepare Data\n",
    "clean = np.array([path.split('/')[-1][:-4] for path in sorted(glob(os.path.join(input_folder,'clean','*')))])\n",
    "noisy = np.array([path.split('/')[-1][:-4] for path in sorted(glob(os.path.join(input_folder,'noisy','*')))])\n",
    "        \n",
    "clean = np.array([path for path in clean if path in noisy])\n",
    "\n",
    "assert len(clean)==len(noisy), f\"Clean length {len(clean)} is not equal to Noisy length {len(noisy)}\"\n",
    "print(f\"Noisy images {len(noisy)}  Clean images {len(clean)}\")\n",
    "\n",
    "df = pd.DataFrame({'image':[os.path.join(input_folder, 'noisy', p)+'.png' for p in noisy], \n",
    "                   'label':[os.path.join(input_folder, 'clean', p)+'.png' for p in clean]})\n",
    "df"
   ],
   "outputs": [
    {
     "output_type": "stream",
     "name": "stdout",
     "text": [
      "Noisy images 1280  Clean images 1280\n"
     ]
    },
    {
     "output_type": "execute_result",
     "data": {
      "text/html": [
       "<div>\n",
       "<style scoped>\n",
       "    .dataframe tbody tr th:only-of-type {\n",
       "        vertical-align: middle;\n",
       "    }\n",
       "\n",
       "    .dataframe tbody tr th {\n",
       "        vertical-align: top;\n",
       "    }\n",
       "\n",
       "    .dataframe thead th {\n",
       "        text-align: right;\n",
       "    }\n",
       "</style>\n",
       "<table border=\"1\" class=\"dataframe\">\n",
       "  <thead>\n",
       "    <tr style=\"text-align: right;\">\n",
       "      <th></th>\n",
       "      <th>image</th>\n",
       "      <th>label</th>\n",
       "    </tr>\n",
       "  </thead>\n",
       "  <tbody>\n",
       "    <tr>\n",
       "      <th>0</th>\n",
       "      <td>ssid/noisy/0000-0000.png</td>\n",
       "      <td>ssid/clean/0000-0000.png</td>\n",
       "    </tr>\n",
       "    <tr>\n",
       "      <th>1</th>\n",
       "      <td>ssid/noisy/0000-0001.png</td>\n",
       "      <td>ssid/clean/0000-0001.png</td>\n",
       "    </tr>\n",
       "    <tr>\n",
       "      <th>2</th>\n",
       "      <td>ssid/noisy/0000-0002.png</td>\n",
       "      <td>ssid/clean/0000-0002.png</td>\n",
       "    </tr>\n",
       "    <tr>\n",
       "      <th>3</th>\n",
       "      <td>ssid/noisy/0000-0003.png</td>\n",
       "      <td>ssid/clean/0000-0003.png</td>\n",
       "    </tr>\n",
       "    <tr>\n",
       "      <th>4</th>\n",
       "      <td>ssid/noisy/0000-0004.png</td>\n",
       "      <td>ssid/clean/0000-0004.png</td>\n",
       "    </tr>\n",
       "    <tr>\n",
       "      <th>...</th>\n",
       "      <td>...</td>\n",
       "      <td>...</td>\n",
       "    </tr>\n",
       "    <tr>\n",
       "      <th>1275</th>\n",
       "      <td>ssid/noisy/0039-0027.png</td>\n",
       "      <td>ssid/clean/0039-0027.png</td>\n",
       "    </tr>\n",
       "    <tr>\n",
       "      <th>1276</th>\n",
       "      <td>ssid/noisy/0039-0028.png</td>\n",
       "      <td>ssid/clean/0039-0028.png</td>\n",
       "    </tr>\n",
       "    <tr>\n",
       "      <th>1277</th>\n",
       "      <td>ssid/noisy/0039-0029.png</td>\n",
       "      <td>ssid/clean/0039-0029.png</td>\n",
       "    </tr>\n",
       "    <tr>\n",
       "      <th>1278</th>\n",
       "      <td>ssid/noisy/0039-0030.png</td>\n",
       "      <td>ssid/clean/0039-0030.png</td>\n",
       "    </tr>\n",
       "    <tr>\n",
       "      <th>1279</th>\n",
       "      <td>ssid/noisy/0039-0031.png</td>\n",
       "      <td>ssid/clean/0039-0031.png</td>\n",
       "    </tr>\n",
       "  </tbody>\n",
       "</table>\n",
       "<p>1280 rows × 2 columns</p>\n",
       "</div>"
      ],
      "text/plain": [
       "                         image                     label\n",
       "0     ssid/noisy/0000-0000.png  ssid/clean/0000-0000.png\n",
       "1     ssid/noisy/0000-0001.png  ssid/clean/0000-0001.png\n",
       "2     ssid/noisy/0000-0002.png  ssid/clean/0000-0002.png\n",
       "3     ssid/noisy/0000-0003.png  ssid/clean/0000-0003.png\n",
       "4     ssid/noisy/0000-0004.png  ssid/clean/0000-0004.png\n",
       "...                        ...                       ...\n",
       "1275  ssid/noisy/0039-0027.png  ssid/clean/0039-0027.png\n",
       "1276  ssid/noisy/0039-0028.png  ssid/clean/0039-0028.png\n",
       "1277  ssid/noisy/0039-0029.png  ssid/clean/0039-0029.png\n",
       "1278  ssid/noisy/0039-0030.png  ssid/clean/0039-0030.png\n",
       "1279  ssid/noisy/0039-0031.png  ssid/clean/0039-0031.png\n",
       "\n",
       "[1280 rows x 2 columns]"
      ]
     },
     "metadata": {},
     "execution_count": 15
    }
   ],
   "metadata": {}
  },
  {
   "cell_type": "code",
   "execution_count": 16,
   "source": [
    "def serialize_fn(data):\n",
    "    x = cv2.cvtColor(cv2.imread(data[0]), cv2.COLOR_BGR2RGB)\n",
    "    y = cv2.cvtColor(cv2.imread(data[1]), cv2.COLOR_BGR2RGB)\n",
    "\n",
    "    # Create a dictionary mapping the feature name to the tf.Example-compatible data type.\n",
    "    feature = {\n",
    "      'x': bytes_feature(x.tobytes()),  # x file to bytes\n",
    "      'y': bytes_feature(y.tobytes()),  # target\n",
    "    }\n",
    "\n",
    "    # Create a Features message using tf.train.Example.\n",
    "    example_proto = tf.train.Example(features=tf.train.Features(feature=feature))\n",
    "    return example_proto.SerializeToString()"
   ],
   "outputs": [],
   "metadata": {}
  },
  {
   "cell_type": "code",
   "execution_count": 19,
   "source": [
    "cv = KFold(5, shuffle=True, random_state=42)\n",
    "\n",
    "for fold, (train_idx, test_idx) in enumerate(cv.split(df)):\n",
    "\n",
    "    convert(df.iloc[test_idx],\n",
    "            folder = 'tfrec',\n",
    "            file_prefix = f'ssid_fold_{fold}_',\n",
    "            serialize_fn = serialize_fn,\n",
    "            max_mb = 1000,\n",
    "            dtype = np.int8,\n",
    "            verbose = True,\n",
    "            zfill=3)"
   ],
   "outputs": [
    {
     "output_type": "stream",
     "name": "stdout",
     "text": [
      "File saved to tfrec/ssid_fold_0_000_256.tfrec\n",
      "File saved to tfrec/ssid_fold_1_000_256.tfrec\n",
      "File saved to tfrec/ssid_fold_2_000_256.tfrec\n",
      "File saved to tfrec/ssid_fold_3_000_256.tfrec\n",
      "File saved to tfrec/ssid_fold_4_000_256.tfrec\n"
     ]
    }
   ],
   "metadata": {}
  }
 ],
 "metadata": {
  "orig_nbformat": 4,
  "language_info": {
   "name": "python",
   "version": "3.6.9",
   "mimetype": "text/x-python",
   "codemirror_mode": {
    "name": "ipython",
    "version": 3
   },
   "pygments_lexer": "ipython3",
   "nbconvert_exporter": "python",
   "file_extension": ".py"
  },
  "kernelspec": {
   "name": "python3",
   "display_name": "Python 3.6.9 64-bit ('venv_vit': venv)"
  },
  "interpreter": {
   "hash": "7188d7cbad04cfdefb9d33832035ca9a3e230f42abcbeb4420907afe061ca5c1"
  }
 },
 "nbformat": 4,
 "nbformat_minor": 2
}